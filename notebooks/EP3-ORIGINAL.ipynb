{
 "cells": [
  {
   "cell_type": "markdown",
   "metadata": {},
   "source": [
    "# **EP3**\n",
    "*Nome (matrícula):* Pedro Semcovici (12745511)\n",
    "\n",
    "\n",
    "## **Introdução**\n",
    "Dando continuidade à atividade proposta na Quick Task 3, neste notebook implementaremos um modelo de tradução sequência para sequência (Seq2Seq) utilizando Redes Neurais Recorrentes (RNNs) para converter datas no formato legível por humanos (como \"12 de outubro de 2024\") para um formato legível por máquinas (como \"12/10/2024\").\n",
    "\n",
    "### **Contexto**\n",
    "\n",
    "Modelos Seq2Seq são amplamente utilizados em tarefas que envolvem a transformação de uma sequência de entrada em outra sequência de saída, como tradução automática de idiomas, sumarização de texto e, neste caso, a transformação de formatos de data. Esses modelos geralmente consistem em dois componentes principais:\n",
    "\n",
    "1. **Encoder**: Lê e compreende a sequência de entrada (neste caso, a data no formato legível por humanos).\n",
    "2. **Decoder**: Gera a sequência de saída correspondente (a data no formato legível por máquinas).\n",
    "\n",
    "### **Objetivo**\n",
    "\n",
    " O objetivo desta tarefa é aplicar os conceitos discutidos nos artigos \"Sequence to Sequence Learning with Neural Networks\" e \"Neural Machine Translation by Jointly Learning to Align and Translate\", utilizando-os em um problema de tradução de formatos de datas. Este exercício servirá como um exemplo prático do poder dos modelos Seq2Seq e do uso de RNNs em tarefas de tradução.\n",
    "\n",
    " Você deve rodar o código e tentar entender o que está acontecendo nas primeiras três seções. À medida que você se familiariza com a implementação, sinta-se à vontade para continuar a exploração em algum caminho que você achar interessante. Isso pode incluir experimentar diferentes configurações de modelo, aplicar novos datasets ou investigar alternativas aos mecanismos de atenção. O objetivo é que você desenvolva uma compreensão mais profunda dos modelos Seq2Seq e das suas aplicações práticas.\n",
    "\n",
    "Este notebook possui as seguintes seções:\n",
    "\n",
    "1. **Carregando os dados:** Iremos carregar um dataset pronto e em seguida converteremos as datas no formato de string para um formato numérico para que o modelo possa entender.\n",
    "2. **Construção do modelo sem atenção:** Implementaremos o modelo Seq2Seq com base em GRU, uma variante das RNNs.\n",
    "3. **Adicionando atenção:** Implementaremos uma versão do Decoder com atenção.\n",
    "4. **Exercícios de Exploração Sugeridos:** Sugestões de explorações para que você possa explorar um pouco mais a tarefa.\n",
    "\n",
    "\n",
    "\n",
    "### **Referências**\n",
    "\n",
    "Este EP foi baseado em dois notebooks, do primeiro retirou a ideia do dataset [1] e o código PyTorch foi adaptado do segundo [2]. Revisão no texto e alguns comentários nos códigos foram gerados com ChatGPT.\n",
    "\n",
    "[1] “Coursera-Deep-Learning-Specialization/C5 - Sequence Models/Week 3/Machine Translation/Neural Machine Translation with Attention - v4.Ipynb at Master · Amanchadha/Coursera-Deep-Learning-Specialization”. GitHub, https://github.com/amanchadha/coursera-deep-learning-specialization/blob/master/C5%20-%20Sequence%20Models/Week%203/Machine%20Translation/Neural%20machine%20translation%20with%20attention%20-%20v4.ipynb. \n",
    "\n",
    "[2] NLP From Scratch: Translation with a Sequence to Sequence Network and Attention — PyTorch Tutorials 2.4.0+cu121 documentation. Por Sean Robertson. https://pytorch.org/tutorials/intermediate/seq2seq_translation_tutorial.html.\n",
    "\n"
   ]
  },
  {
   "cell_type": "markdown",
   "metadata": {},
   "source": [
    "----\n",
    "# 0. Setup"
   ]
  },
  {
   "cell_type": "code",
   "execution_count": 1,
   "metadata": {},
   "outputs": [
    {
     "name": "stdout",
     "output_type": "stream",
     "text": [
      "device=cuda\n"
     ]
    }
   ],
   "source": [
    "import random\n",
    "import re\n",
    "import time\n",
    "import numpy as np\n",
    "import torch\n",
    "import torch.nn as nn\n",
    "from torch import optim\n",
    "import torch.nn.functional as F\n",
    "from torch.utils.data import TensorDataset, DataLoader, RandomSampler\n",
    "\n",
    "import matplotlib.pyplot as plt\n",
    "import matplotlib.ticker as ticker\n",
    "\n",
    "plt.switch_backend('agg')\n",
    "%matplotlib inline\n",
    "\n",
    "# Device setup\n",
    "device = torch.device(\"cuda\" if torch.cuda.is_available() else \"cpu\")\n",
    "print(f'device={device}')"
   ]
  },
  {
   "cell_type": "code",
   "execution_count": 2,
   "metadata": {},
   "outputs": [],
   "source": [
    "DATA_DIR = \"../data/\""
   ]
  },
  {
   "cell_type": "markdown",
   "metadata": {},
   "source": [
    "----\n",
    "## 1. **Carregando os dados** \n",
    "\n",
    "Iremos carregar um dataset pronto e em seguida converteremos as datas no formato de string para um formato numérico que o modelo possa entender.\n",
    "\n",
    "Vamos treinar o modelo em um dataset de 10.000 datas legíveis por humanos e suas equivalentes, padronizadas, legíveis por máquinas. "
   ]
  },
  {
   "cell_type": "code",
   "execution_count": 3,
   "metadata": {},
   "outputs": [
    {
     "name": "stdout",
     "output_type": "stream",
     "text": [
      "Read 10000 samples from ../data/datahumana-datamaquina.txt\n",
      "\n",
      "['quinta-feira 14 de junho de 2001', '14/06/2001']\n",
      "['sabado 10 de novembro de 1979', '10/11/1979']\n",
      "['10 abril 2001', '10/04/2001']\n",
      "['9 jan. 1994', '09/01/1994']\n",
      "['3 mar. 2011', '03/03/2011']\n",
      "['sabado 19 de janeiro de 2013', '19/01/2013']\n",
      "['segunda-feira 27 de setembro de 1999', '27/09/1999']\n",
      "['5 fevereiro 2009', '05/02/2009']\n",
      "['8 janeiro 2005', '08/01/2005']\n",
      "['segunda-feira 12 de fevereiro de 1979', '12/02/1979']\n",
      "['sexta-feira 28 de setembro de 2007', '28/09/2007']\n",
      "['agosto 24 2009', '24/08/2009']\n",
      "['25 nov. 1995', '25/11/1995']\n",
      "['20 jul. 1983', '20/07/1983']\n",
      "['19 out. 2017', '19/10/2017']\n"
     ]
    }
   ],
   "source": [
    "def readDataset():\n",
    "  file = DATA_DIR + 'datahumana-datamaquina.txt'\n",
    "  # file = '' # Arquivo a ser lido na formatação entrada<tab>saida\n",
    "  lines = open(file, encoding='utf-8').read().strip().split('\\n')\n",
    "  pairs = [[s for s in l.split('\\t')] for l in lines]\n",
    "  print(f'Read {len(pairs)} samples from {file}')\n",
    "  print()\n",
    "  print(\"\\n\".join(map(str, random.sample(pairs, 15))))\n",
    "  return pairs\n",
    "\n",
    "pairs = readDataset()"
   ]
  },
  {
   "cell_type": "markdown",
   "metadata": {},
   "source": [
    "É necessário codificar as entradas e saídas em representações que o modelo consiga entender. Neste caso, representaremos as 'palavras' como inteiros atribuídos de forma sequencial.\n",
    "\n",
    "\n",
    "Além disso, é necessário definir os tokens especiais para o início e fim de uma sequência.\n",
    "- SOS_token (Start of Sequence - Início da Sequência) é usado para inicializar a entrada do decodificador ao gerar frases.\n",
    "- EOS_token (End of Sequence - Fim da Sequência) indica o fim da frase, para que o decodificador saiba quando parar de gerar.\n"
   ]
  },
  {
   "cell_type": "code",
   "execution_count": 4,
   "metadata": {},
   "outputs": [
    {
     "name": "stdout",
     "output_type": "stream",
     "text": [
      "Number of input words: 164\n",
      "Number of output words: 89\n"
     ]
    }
   ],
   "source": [
    "SOS_token = 0\n",
    "EOS_token = 1\n",
    "\n",
    "def prepareData(pairs):\n",
    "  input_dict  = {\"SOS\": SOS_token, \"EOS\": EOS_token}\n",
    "  output_dict = {\"SOS\": SOS_token, \"EOS\": EOS_token}\n",
    "\n",
    "  input_dict_reverse  = {SOS_token: \"SOS\", EOS_token: \"EOS\"}\n",
    "  output_dict_reverse = {SOS_token: \"SOS\", EOS_token: \"EOS\"}\n",
    "\n",
    "  for pair in pairs:\n",
    "    ipt, tgt = pair\n",
    "    \n",
    "    mask = '([^a-zA-Z0-9])'\n",
    "    result = [token for token in re.split(mask, ipt) if token.strip()]\n",
    "    for word_input in result:\n",
    "      if word_input not in input_dict:\n",
    "        next_int = max(input_dict.values()) + 1\n",
    "        input_dict[word_input] = next_int\n",
    "        input_dict_reverse[next_int] = word_input\n",
    "\n",
    "    for word_output in re.split(mask, tgt):\n",
    "      if word_output not in output_dict:\n",
    "        next_int = max(output_dict.values()) + 1\n",
    "        output_dict[word_output] = next_int\n",
    "        output_dict_reverse[next_int] = word_output\n",
    "\n",
    "  print(f'Number of input words: {len(input_dict.keys())}')\n",
    "  print(f'Number of output words: {len(output_dict.keys())}')\n",
    "\n",
    "  return input_dict, output_dict, input_dict_reverse, output_dict_reverse\n",
    "\n",
    "input_dict, output_dict, input_dict_reverse, output_dict_reverse = prepareData(pairs)"
   ]
  },
  {
   "cell_type": "code",
   "execution_count": 5,
   "metadata": {},
   "outputs": [
    {
     "name": "stdout",
     "output_type": "stream",
     "text": [
      "{'SOS': 0, 'EOS': 1, '8': 2, 'julho': 3, '2001': 4, 'domingo': 5, '15': 6, 'de': 7, 'setembro': 8, '2013': 9, 'quarta': 10, '-': 11, 'feira': 12, '12': 13, 'dezembro': 14, '1973': 15, '10': 16, '/': 17, '06': 18, '1972': 19, 'sexta': 20, '26': 21, 'abril': 22, '1974': 23, 'terca': 24, '5': 25, '1983': 26, '29': 27, 'mar': 28, '.': 29, '1987': 30, '2': 31, '94': 32, 'segunda': 33, '11': 34, '1978': 35, 'quinta': 36, '14': 37, 'janeiro': 38, '1999': 39, 'agosto': 40, '2015': 41, '1996': 42, '22': 43, '2005': 44, '01': 45, 'out': 46, '2011': 47, 'sabado': 48, '6': 49, 'junho': 50, '1981': 51, 'marco': 52, 'maio': 53, '3': 54, '2010': 55, '1986': 56, '31': 57, '2018': 58, '1971': 59, 'jan': 60, '1989': 61, '23': 62, '7': 63, '2006': 64, '19': 65, 'outubro': 66, '1990': 67, '1998': 68, '30': 69, '2022': 70, '07': 71, '92': 72, '24': 73, 'nov': 74, '13': 75, '16': 76, 'mai': 77, '1980': 78, 'ago': 79, '1979': 80, '2020': 81, '28': 82, '03': 83, '05': 84, '04': 85, '81': 86, '75': 87, '1977': 88, 'novembro': 89, 'set': 90, '1997': 91, 'fevereiro': 92, '1994': 93, '08': 94, '4': 95, '1975': 96, '20': 97, 'dez': 98, '2007': 99, '27': 100, '2003': 101, '18': 102, '2023': 103, '1993': 104, '2017': 105, '21': 106, '1984': 107, 'jun': 108, '2002': 109, '09': 110, '77': 111, 'abr': 112, '1988': 113, '2008': 114, '82': 115, '1991': 116, 'fev': 117, 'jul': 118, '1970': 119, '25': 120, '02': 121, '73': 122, '17': 123, '1995': 124, '9': 125, '1992': 126, '2016': 127, '1': 128, '2000': 129, '2009': 130, '2019': 131, '1985': 132, '2024': 133, '2021': 134, '83': 135, '78': 136, '1976': 137, '95': 138, '99': 139, '91': 140, '1982': 141, '72': 142, '2004': 143, '2014': 144, '84': 145, '76': 146, '2012': 147, '88': 148, '00': 149, '79': 150, '85': 151, '90': 152, '93': 153, '71': 154, '97': 155, '96': 156, '74': 157, '87': 158, '89': 159, '80': 160, '70': 161, '98': 162, '86': 163}\n",
      "{0: 'SOS', 1: 'EOS', 2: '8', 3: 'julho', 4: '2001', 5: 'domingo', 6: '15', 7: 'de', 8: 'setembro', 9: '2013', 10: 'quarta', 11: '-', 12: 'feira', 13: '12', 14: 'dezembro', 15: '1973', 16: '10', 17: '/', 18: '06', 19: '1972', 20: 'sexta', 21: '26', 22: 'abril', 23: '1974', 24: 'terca', 25: '5', 26: '1983', 27: '29', 28: 'mar', 29: '.', 30: '1987', 31: '2', 32: '94', 33: 'segunda', 34: '11', 35: '1978', 36: 'quinta', 37: '14', 38: 'janeiro', 39: '1999', 40: 'agosto', 41: '2015', 42: '1996', 43: '22', 44: '2005', 45: '01', 46: 'out', 47: '2011', 48: 'sabado', 49: '6', 50: 'junho', 51: '1981', 52: 'marco', 53: 'maio', 54: '3', 55: '2010', 56: '1986', 57: '31', 58: '2018', 59: '1971', 60: 'jan', 61: '1989', 62: '23', 63: '7', 64: '2006', 65: '19', 66: 'outubro', 67: '1990', 68: '1998', 69: '30', 70: '2022', 71: '07', 72: '92', 73: '24', 74: 'nov', 75: '13', 76: '16', 77: 'mai', 78: '1980', 79: 'ago', 80: '1979', 81: '2020', 82: '28', 83: '03', 84: '05', 85: '04', 86: '81', 87: '75', 88: '1977', 89: 'novembro', 90: 'set', 91: '1997', 92: 'fevereiro', 93: '1994', 94: '08', 95: '4', 96: '1975', 97: '20', 98: 'dez', 99: '2007', 100: '27', 101: '2003', 102: '18', 103: '2023', 104: '1993', 105: '2017', 106: '21', 107: '1984', 108: 'jun', 109: '2002', 110: '09', 111: '77', 112: 'abr', 113: '1988', 114: '2008', 115: '82', 116: '1991', 117: 'fev', 118: 'jul', 119: '1970', 120: '25', 121: '02', 122: '73', 123: '17', 124: '1995', 125: '9', 126: '1992', 127: '2016', 128: '1', 129: '2000', 130: '2009', 131: '2019', 132: '1985', 133: '2024', 134: '2021', 135: '83', 136: '78', 137: '1976', 138: '95', 139: '99', 140: '91', 141: '1982', 142: '72', 143: '2004', 144: '2014', 145: '84', 146: '76', 147: '2012', 148: '88', 149: '00', 150: '79', 151: '85', 152: '90', 153: '93', 154: '71', 155: '97', 156: '96', 157: '74', 158: '87', 159: '89', 160: '80', 161: '70', 162: '98', 163: '86'}\n"
     ]
    }
   ],
   "source": [
    "print(input_dict)\n",
    "\n",
    "print(input_dict_reverse)"
   ]
  },
  {
   "cell_type": "code",
   "execution_count": 6,
   "metadata": {},
   "outputs": [
    {
     "name": "stdout",
     "output_type": "stream",
     "text": [
      "'segunda-feira 18 de outubro de 1999' => [33, 11, 12, 102, 7, 66, 7, 39]\n",
      "'30/09/2022' => [46, 3, 7, 3, 47]\n"
     ]
    }
   ],
   "source": [
    "def indexesFromSentence(language_dict, sentence, verbose=False):\n",
    "  '''\n",
    "    Função utilitária para converter uma sentença em índices\n",
    "  '''\n",
    "  encoded = [language_dict[word] for word in re.split('([^a-zA-Z0-9])', sentence) if word.strip()]\n",
    "  if verbose:\n",
    "    print(f\"'{sentence}' => {encoded}\")\n",
    "  return encoded\n",
    "\n",
    "indexesFromSentence(input_dict, 'segunda-feira 18 de outubro de 1999', verbose=True);\n",
    "indexesFromSentence(output_dict, '30/09/2022', verbose=True);\n"
   ]
  },
  {
   "cell_type": "code",
   "execution_count": 7,
   "metadata": {},
   "outputs": [
    {
     "data": {
      "text/plain": [
       "(tensor([[ 33,  11,  12, 102,   7,  66,   7,  39,   1]], device='cuda:0'),\n",
       " tensor([[65,  3, 11,  3, 28,  1]], device='cuda:0'))"
      ]
     },
     "execution_count": 7,
     "metadata": {},
     "output_type": "execute_result"
    }
   ],
   "source": [
    "# Funções utilitárias\n",
    "def tensorFromSentence(language_dict, sentence):\n",
    "  indexes = indexesFromSentence(language_dict, sentence)\n",
    "  indexes.append(EOS_token)\n",
    "  return torch.tensor(indexes, dtype=torch.long, device=device).view(1, -1)\n",
    "\n",
    "def tensorsFromPair(pair):\n",
    "    input_tensor = tensorFromSentence(input_dict, pair[0])\n",
    "    target_tensor = tensorFromSentence(output_dict, pair[1])\n",
    "    return (input_tensor, target_tensor)\n",
    "\n",
    "tensorsFromPair(['segunda-feira 18 de outubro de 1999', '18/10/1999'])"
   ]
  },
  {
   "cell_type": "markdown",
   "metadata": {},
   "source": [
    "### Implementando data loader para treinamento"
   ]
  },
  {
   "cell_type": "code",
   "execution_count": 8,
   "metadata": {},
   "outputs": [],
   "source": [
    "def get_dataloader(batch_size, pairs, input_dict, output_dict):\n",
    "  n = len(pairs)\n",
    "  input_ids = np.zeros((n, MAX_LENGTH), dtype=np.int32)\n",
    "  target_ids = np.zeros((n, MAX_LENGTH), dtype=np.int32)\n",
    "\n",
    "  for idx, (inp, tgt) in enumerate(pairs):\n",
    "    inp_ids = indexesFromSentence(input_dict, inp)\n",
    "    tgt_ids = indexesFromSentence(output_dict, tgt)\n",
    "    inp_ids.append(EOS_token)\n",
    "    tgt_ids.append(EOS_token)\n",
    "    input_ids[idx, :len(inp_ids)] = inp_ids\n",
    "    target_ids[idx, :len(tgt_ids)] = tgt_ids\n",
    "\n",
    "  train_data = TensorDataset(torch.LongTensor(input_ids).to(device), torch.LongTensor(target_ids).to(device))\n",
    "\n",
    "  train_sampler = RandomSampler(train_data)\n",
    "  train_dataloader = DataLoader(train_data, sampler=train_sampler, batch_size=batch_size)\n",
    "  return train_dataloader"
   ]
  },
  {
   "cell_type": "markdown",
   "metadata": {},
   "source": [
    "----\n",
    "## 2. **Construção do modelo sem atenção:**\n",
    "\n",
    "Dando continuidade, vamos implementar o modelo Seq2Seq utilizando a célula GRU.\n",
    "\n",
    "Uma rede Encoder-Decoder é composta por duas RNNs: o Encoder e o Decoder.\n",
    "O Encoder lê uma sequência de entrada e gera um vetor único, que o Decoder usa para produzir a sequência de saída.\n",
    "\n",
    "Por simplicidade, utilizaremos a célula GRU. Como sugestão, você também pode explorar outras células RNN, como, por exemplo, a LSTM."
   ]
  },
  {
   "cell_type": "code",
   "execution_count": 9,
   "metadata": {},
   "outputs": [],
   "source": [
    "class EncoderRNN(nn.Module):\n",
    "  def __init__(self, input_size, hidden_size, dropout_p=0.1):\n",
    "    \"\"\"\n",
    "    Initializes the encoding layer (Encoder) of an RNN.\n",
    "        \n",
    "    Parameters:\n",
    "    - input_size: The number of expected features in the input x\n",
    "    - hidden_size: The number of features in the hidden state h\n",
    "    - dropout_p: If non-zero, introduces a Dropout layer on the outputs of each GRU layer except the last layer\n",
    "    \"\"\"      \n",
    "    super(EncoderRNN, self).__init__()\n",
    "    self.hidden_size = hidden_size\n",
    "\n",
    "    # Embedding layer that transforms word indices into dense vectors of size 'hidden_size'.\n",
    "    self.embedding = nn.Embedding(input_size, hidden_size)\n",
    "\n",
    "    # Defines the GRU (Gated Recurrent Unit) with both input and output dimensions of 'hidden_size'.\n",
    "    # 'batch_first=True' indicates that the first input dimension is the batch (batch_size, seq_len, hidden_size).\n",
    "    self.gru = nn.GRU(hidden_size, hidden_size, batch_first=True)\n",
    "\n",
    "    # Dropout applied after the embedding layer to prevent overfitting.\n",
    "    self.dropout = nn.Dropout(dropout_p)\n",
    "\n",
    "  def forward(self, input):\n",
    "    \"\"\"\n",
    "    Defines the forward pass of the model.\n",
    "    \n",
    "    Parameter:\n",
    "    - input: Sequence of word indices of size (batch_size, seq_len).\n",
    "    \n",
    "    Returns:\n",
    "    - output: GRU outputs for each step in the sequence (batch_size, seq_len, hidden_size).\n",
    "    - hidden: The last hidden state vector of the GRU (1, batch_size, hidden_size).\n",
    "        \"\"\"    \n",
    "    embedded = self.dropout(self.embedding(input))\n",
    "    output, hidden = self.gru(embedded)\n",
    "    return output, hidden     "
   ]
  },
  {
   "cell_type": "code",
   "execution_count": 10,
   "metadata": {},
   "outputs": [],
   "source": [
    "# MAX_LENGTH defines the sequence length limit\n",
    "MAX_LENGTH = 18"
   ]
  },
  {
   "cell_type": "code",
   "execution_count": 11,
   "metadata": {},
   "outputs": [],
   "source": [
    "class DecoderRNN(nn.Module):\n",
    "  def __init__(self, hidden_size, output_size):\n",
    "    \"\"\"\n",
    "    Initializes the decoding layer (Decoder) of an RNN.\n",
    "    \n",
    "    Parameters:\n",
    "    - hidden_size: The size of the hidden state vector.\n",
    "    - output_size: The size of the output vocabulary (number of unique words in the target language).\n",
    "    \"\"\"    \n",
    "    super(DecoderRNN, self).__init__()\n",
    "\n",
    "    # Embedding layer that transforms word indices into dense vectors of size 'hidden_size'.\n",
    "    self.embedding = nn.Embedding(output_size, hidden_size)\n",
    "\n",
    "    # Defines a GRU layer that processes input sequences. Both input and output dimensions are 'hidden_size'.\n",
    "    self.gru = nn.GRU(hidden_size, hidden_size, batch_first=True)\n",
    "\n",
    "    # Linear layer that maps the hidden state of the GRU to the output vocabulary space.\n",
    "    self.out = nn.Linear(hidden_size, output_size)\n",
    "\n",
    "  def forward(self, encoder_outputs, encoder_hidden, target_tensor=None):\n",
    "    \"\"\"\n",
    "    Defines the forward pass for the decoder.\n",
    "    \n",
    "    Parameters:\n",
    "    - encoder_outputs: The output sequence from the encoder (batch_size, seq_len, hidden_size).\n",
    "    - encoder_hidden: The last hidden state of the encoder (1, batch_size, hidden_size).\n",
    "    - target_tensor: The target sequence for teacher forcing (optional).\n",
    "    \n",
    "    Returns:\n",
    "    - decoder_outputs: The output probabilities (log-softmax) for each time step (batch_size, seq_len, output_size).\n",
    "    - decoder_hidden: The final hidden state of the decoder (1, batch_size, hidden_size).\n",
    "    - None: Placeholder for consistency with other methods (e.g., attention).\n",
    "    \"\"\"    \n",
    "    batch_size = encoder_outputs.size(0)\n",
    "\n",
    "    # Initial decoder input is the <SOS> token for every sequence in the batch.\n",
    "    decoder_input = torch.empty(batch_size, 1, dtype=torch.long, device=device).fill_(SOS_token)\n",
    "    decoder_hidden = encoder_hidden\n",
    "    decoder_outputs = []\n",
    "\n",
    "    # Loop through each time step\n",
    "    for i in range(MAX_LENGTH):\n",
    "      # Call the forward_step function to get output and hidden state for the current time step.\n",
    "      decoder_output, decoder_hidden  = self.forward_step(decoder_input, decoder_hidden)\n",
    "      decoder_outputs.append(decoder_output)\n",
    "\n",
    "      if target_tensor is not None:\n",
    "        # Teacher forcing: Use the target token as the next input to the decoder.\n",
    "        decoder_input = target_tensor[:, i].unsqueeze(1) \n",
    "      else:\n",
    "        # Without teacher forcing: use its own predictions as the next input\n",
    "        _, topi = decoder_output.topk(1)\n",
    "        decoder_input = topi.squeeze(-1).detach()  \n",
    "\n",
    "    # Concatenate all the decoder outputs along the time step dimension.\n",
    "    decoder_outputs = torch.cat(decoder_outputs, dim=1)\n",
    "\n",
    "    # Apply log softmax to the outputs to get log-probabilities.\n",
    "    decoder_outputs = F.log_softmax(decoder_outputs, dim=-1)\n",
    "\n",
    "    # Return the outputs, final hidden state, and `None` (for consistency with attention models implemented next).\n",
    "    return decoder_outputs, decoder_hidden, None \n",
    "\n",
    "  def forward_step(self, input, hidden):\n",
    "    \"\"\"\n",
    "    Processes a single step in the decoding sequence.\n",
    "    \n",
    "    Parameters:\n",
    "    - input: The current input to the decoder (batch_size, 1).\n",
    "    - hidden: The current hidden state of the decoder (1, batch_size, hidden_size).\n",
    "    \n",
    "    Returns:\n",
    "    - output: The predicted output (batch_size, 1, output_size).\n",
    "    - hidden: The updated hidden state (1, batch_size, hidden_size).\n",
    "    \"\"\"    \n",
    "    output = self.embedding(input)\n",
    "    output = F.relu(output)\n",
    "    output, hidden = self.gru(output, hidden)\n",
    "    output = self.out(output)\n",
    "    return output, hidden"
   ]
  },
  {
   "cell_type": "markdown",
   "metadata": {},
   "source": [
    "### **Treinando uma época**\n",
    "\n",
    "Para treinar, inserimos a sequência de entrada no Encoder, e capturamos  cada saída e o último hidden state. \n",
    "A partir disso, o Decoder é alimentado com o token de início de sequência (SOS) e o último hidden state do Encoder.\n",
    "\n",
    "Para acelerar a convergência do treinamento, utilizamos o Teacher Forcing, ou seja, realimentamos o Decoder com as palavras esperadas, em vez de usar a última saída gerada pelo modelo."
   ]
  },
  {
   "cell_type": "code",
   "execution_count": 12,
   "metadata": {},
   "outputs": [],
   "source": [
    "def train_epoch(dataloader, encoder, decoder, encoder_optimizer, decoder_optimizer, criterion):\n",
    "  \"\"\"\n",
    "  Train the encoder and decoder for one epoch.\n",
    "  \n",
    "  Parameters:\n",
    "  - dataloader: Iterable that provides batches of input and target tensors.\n",
    "  - encoder: The encoder model.\n",
    "  - decoder: The decoder model.\n",
    "  - encoder_optimizer: Optimizer for updating the encoder's parameters.\n",
    "  - decoder_optimizer: Optimizer for updating the decoder's parameters.\n",
    "  - criterion: Loss function to measure the difference between the predicted and target outputs.\n",
    "\n",
    "  Returns:\n",
    "  - The average loss over the epoch.\n",
    "  \"\"\"\n",
    "  total_loss = 0\n",
    "  for data in dataloader:\n",
    "    input_tensor, target_tensor = data\n",
    "\n",
    "    encoder_optimizer.zero_grad()\n",
    "    decoder_optimizer.zero_grad()\n",
    "\n",
    "    encoder_outputs, encoder_hidden = encoder(input_tensor)\n",
    "    decoder_outputs, _, _ = decoder(encoder_outputs, encoder_hidden, target_tensor)\n",
    "\n",
    "    loss = criterion(\n",
    "        decoder_outputs.view(-1, decoder_outputs.size(-1)),\n",
    "        target_tensor.view(-1)\n",
    "    )\n",
    "    loss.backward()\n",
    "\n",
    "    encoder_optimizer.step()\n",
    "    decoder_optimizer.step()\n",
    "\n",
    "    total_loss += loss.item()\n",
    "\n",
    "  return total_loss / len(dataloader)"
   ]
  },
  {
   "cell_type": "code",
   "execution_count": 13,
   "metadata": {},
   "outputs": [],
   "source": [
    "def train(train_dataloader, encoder, decoder, n_epochs, learning_rate=0.001):\n",
    "  loss_points = []\n",
    "  \n",
    "  plot_losses = []\n",
    "  print_loss_total = 0  # Reset every print_every\n",
    "  plot_loss_total = 0  # Reset every plot_every\n",
    "\n",
    "  encoder_optimizer = optim.Adam(encoder.parameters(), lr=learning_rate)\n",
    "  decoder_optimizer = optim.Adam(decoder.parameters(), lr=learning_rate)\n",
    "  criterion = nn.NLLLoss()\n",
    "\n",
    "  for epoch in range(1, n_epochs + 1):\n",
    "    loss = train_epoch(train_dataloader, encoder, decoder, encoder_optimizer, decoder_optimizer, criterion)\n",
    "    loss_points.append(loss)\n",
    "\n",
    "    if epoch % 10 == 0:\n",
    "      print(f'Epoch: {epoch:4}/{n_epochs:4} - Loss: {loss:.4f}')\n",
    "\n",
    "  \n",
    "  return loss_points\n"
   ]
  },
  {
   "cell_type": "code",
   "execution_count": 14,
   "metadata": {},
   "outputs": [
    {
     "name": "stdout",
     "output_type": "stream",
     "text": [
      "Epoch:   10/ 100 - Loss: 0.6024\n",
      "Epoch:   20/ 100 - Loss: 0.5300\n",
      "Epoch:   30/ 100 - Loss: 0.3917\n",
      "Epoch:   40/ 100 - Loss: 0.2602\n",
      "Epoch:   50/ 100 - Loss: 0.2041\n",
      "Epoch:   60/ 100 - Loss: 0.1026\n",
      "Epoch:   70/ 100 - Loss: 0.0362\n",
      "Epoch:   80/ 100 - Loss: 0.0168\n",
      "Epoch:   90/ 100 - Loss: 0.0100\n",
      "Epoch:  100/ 100 - Loss: 0.0069\n"
     ]
    }
   ],
   "source": [
    "hidden_size = 128\n",
    "batch_size = 1024\n",
    "\n",
    "train_dataloader = get_dataloader(batch_size, pairs, input_dict, output_dict)\n",
    "\n",
    "encoder = EncoderRNN(\n",
    "  input_size = len(input_dict.keys()),\n",
    "  hidden_size = hidden_size\n",
    ").to(device)\n",
    "\n",
    "decoder = DecoderRNN(\n",
    "  hidden_size = hidden_size,\n",
    "  output_size = len(output_dict.keys())\n",
    ").to(device)\n",
    "\n",
    "\n",
    "loss_points = train(train_dataloader, encoder, decoder, 100, learning_rate=0.001)\n"
   ]
  },
  {
   "cell_type": "code",
   "execution_count": 15,
   "metadata": {},
   "outputs": [
    {
     "data": {
      "image/png": "[encoded data removed]",
      "text/plain": [
       "<Figure size 640x480 with 1 Axes>"
      ]
     },
     "metadata": {},
     "output_type": "display_data"
    }
   ],
   "source": [
    "def plot_train_loss(loss_points):\n",
    "  plt.plot(loss_points);\n",
    "  plt.title('Training Loss')\n",
    "  plt.xlabel('Epochs')\n",
    "  plt.ylabel('Loss')\n",
    "plot_train_loss(loss_points);"
   ]
  },
  {
   "cell_type": "markdown",
   "metadata": {},
   "source": [
    "### **Avaliando a predição**\n",
    "\n",
    "Para avaliar a predição, usamos o modelo de forma semelhante ao treinamento, mas sem utilizar o Teacher Forcing. Simplesmente realimentamos o decoder com suas próprias predições a cada passo. Quando o decoder produz o token EOS, o processo é interrompido."
   ]
  },
  {
   "cell_type": "code",
   "execution_count": 16,
   "metadata": {},
   "outputs": [],
   "source": [
    "def evaluate(encoder, decoder, sentence):\n",
    "  encoder.eval()\n",
    "  decoder.eval()\n",
    "  with torch.no_grad():\n",
    "    input_tensor = tensorFromSentence(input_dict, sentence)\n",
    "\n",
    "    encoder_outputs, encoder_hidden = encoder(input_tensor)\n",
    "    decoder_outputs, decoder_hidden, decoder_attn = decoder(encoder_outputs, encoder_hidden)\n",
    "\n",
    "    _, topi = decoder_outputs.topk(1)\n",
    "    decoded_ids = topi.squeeze()\n",
    "\n",
    "    decoded_words = []\n",
    "    for idx in decoded_ids:\n",
    "      if idx.item() == EOS_token:\n",
    "        # decoded_words.append('<EOS>')\n",
    "        break\n",
    "      decoded_words.append(output_dict_reverse[idx.item()])\n",
    "  return decoded_words, decoder_attn"
   ]
  },
  {
   "cell_type": "code",
   "execution_count": 17,
   "metadata": {},
   "outputs": [],
   "source": [
    "def evaluateRandomly(encoder, decoder, n=5):\n",
    "  for i in range(n):\n",
    "    pair = random.choice(pairs)\n",
    "    print(f'Input: {pair[0]}')\n",
    "    print(f'Ground truth: {pair[1]}')\n",
    "    output_words, _ = evaluate(encoder, decoder, pair[0])\n",
    "    output_sentence = ''.join(output_words)\n",
    "    print(f'Predicted: {output_sentence}')\n",
    "    print('')"
   ]
  },
  {
   "cell_type": "code",
   "execution_count": 18,
   "metadata": {},
   "outputs": [
    {
     "name": "stdout",
     "output_type": "stream",
     "text": [
      "Input: 5 julho 1993\n",
      "Ground truth: 05/07/1993\n",
      "Predicted: 05/07\n",
      "\n",
      "Input: 16 de jul. de 1986\n",
      "Ground truth: 16/07/1986\n",
      "Predicted: 16/07\n",
      "\n",
      "Input: 2 agosto 1982\n",
      "Ground truth: 02/08/1982\n",
      "Predicted: 02/08/1993\n",
      "\n",
      "Input: quinta-feira 20 de fevereiro de 1997\n",
      "Ground truth: 20/02/1997\n",
      "Predicted: 20/02\n",
      "\n",
      "Input: 11 de janeiro de 2005\n",
      "Ground truth: 11/01/2005\n",
      "Predicted: 11/01/2005\n",
      "\n"
     ]
    }
   ],
   "source": [
    "evaluateRandomly(encoder, decoder)"
   ]
  },
  {
   "cell_type": "markdown",
   "metadata": {},
   "source": [
    "----\n",
    "# **3. Adicionando Atenção**\n",
    "\n",
    "A atenção permite que a rede do decoder \"foque\" em uma parte diferente das saídas do encoder a cada passo das suas próprias saídas. Primeiro, calculamos um conjunto de pesos de atenção. Esses pesos serão multiplicados pelos vetores de saída do encoder para criar uma combinação ponderada. O resultado (chamado attn_applied no código) deve conter informações sobre aquela parte específica da sequência de entrada e, assim, ajudar o decoder a escolher as palavras corretas na saída.\n",
    "\n",
    "![](https://i.imgur.com/1152PYf.png)"
   ]
  },
  {
   "cell_type": "code",
   "execution_count": 19,
   "metadata": {},
   "outputs": [],
   "source": [
    "# Bahdanau attention, also known as additive attention, is a commonly used\n",
    "# attention mechanism in sequence-to-sequence models, particularly in\n",
    "# neural machine translation tasks. It was introduced by Bahdanau et al.\n",
    "# in their paper titled [Neural Machine Translation by Jointly Learning to\n",
    "# Align and Translate](https://arxiv.org/pdf/1409.0473.pdf). This\n",
    "# attention mechanism employs a learned alignment model to compute\n",
    "# attention scores between the encoder and decoder hidden states. It\n",
    "# utilizes a feed-forward neural network to calculate alignment scores.\n",
    "\n",
    "class BahdanauAttention(nn.Module):\n",
    "  def __init__(self, hidden_size):\n",
    "    '''Initialize the BahdanauAttention class.\n",
    "        \n",
    "    Parameters:\n",
    "    - hidden_size: The size of the hidden state used in the attention mechanism.\n",
    "    '''\n",
    "    super(BahdanauAttention, self).__init__()\n",
    "    self.Wa = nn.Linear(hidden_size, hidden_size)\n",
    "    self.Ua = nn.Linear(hidden_size, hidden_size)\n",
    "    self.Va = nn.Linear(hidden_size, 1)\n",
    "\n",
    "  def forward(self, query, keys):\n",
    "    scores = self.Va(torch.tanh(self.Wa(query) + self.Ua(keys)))\n",
    "    scores = scores.squeeze(2).unsqueeze(1)\n",
    "\n",
    "    weights = F.softmax(scores, dim=-1)\n",
    "    context = torch.bmm(weights, keys)\n",
    "    return context, weights  # Return the context vector and attention weights."
   ]
  },
  {
   "cell_type": "code",
   "execution_count": 20,
   "metadata": {},
   "outputs": [],
   "source": [
    "class AttnDecoderRNN(nn.Module):\n",
    "  def __init__(self, hidden_size, output_size, dropout_p=0.1):\n",
    "    \"\"\"\n",
    "    Initializes the decoding layer (Decoder with Attention) of an RNN.\n",
    "    \n",
    "    Parameters:\n",
    "    - hidden_size: The size of the hidden state vector.\n",
    "    - output_size: The size of the output vocabulary (number of unique words in the target language).\n",
    "    - dropout_p: The dropout probability for regularization during training.\n",
    "    \"\"\"    \n",
    "    super(AttnDecoderRNN, self).__init__()\n",
    "    \n",
    "    # Embedding layer transforms word indices into dense vectors of size 'hidden_size'.\n",
    "    self.embedding = nn.Embedding(output_size, hidden_size)\n",
    "    \n",
    "    # Attention mechanism to compute context vectors from encoder outputs.\n",
    "    self.attention = BahdanauAttention(hidden_size)\n",
    "\n",
    "    # GRU layer that processes the combined input of embeddings and context vectors.\n",
    "    self.gru = nn.GRU(2 * hidden_size, hidden_size, batch_first=True)\n",
    "\n",
    "    # Linear layer maps the GRU output to the output vocabulary space.\n",
    "    self.out = nn.Linear(hidden_size, output_size)\n",
    "\n",
    "    # Dropout layer for regularization to prevent overfitting during training.\n",
    "    self.dropout = nn.Dropout(dropout_p)\n",
    "\n",
    "  def forward(self, encoder_outputs, encoder_hidden, target_tensor=None):\n",
    "    \"\"\"\n",
    "    Defines the forward pass for the attention decoder.\n",
    "    \n",
    "    Parameters:\n",
    "    - encoder_outputs: The output sequences from the encoder (shape: batch_size, seq_len, hidden_size).\n",
    "    - encoder_hidden: The last hidden state of the encoder (shape: 1, batch_size, hidden_size).\n",
    "    - target_tensor: The target sequence for teacher forcing (optional).\n",
    "    \n",
    "    Returns:\n",
    "    - decoder_outputs: The output probabilities (log-softmax) for each time step (shape: batch_size, seq_len, output_size).\n",
    "    - decoder_hidden: The final hidden state of the decoder (shape: 1, batch_size, hidden_size).\n",
    "    - attentions: The attention weights for each time step (shape: batch_size, seq_len).\n",
    "    \"\"\"        \n",
    "    batch_size = encoder_outputs.size(0)\n",
    "    decoder_input = torch.empty(batch_size, 1, dtype=torch.long, device=device).fill_(SOS_token)\n",
    "    decoder_hidden = encoder_hidden\n",
    "    decoder_outputs = []\n",
    "    attentions = []\n",
    "\n",
    "    # Loop through each time step to generate the output sequence.\n",
    "    for i in range(MAX_LENGTH):\n",
    "      # Call the forward_step function to get output, hidden state, and attention weights for the current time step.\n",
    "      decoder_output, decoder_hidden, attn_weights = self.forward_step(decoder_input, decoder_hidden, encoder_outputs)\n",
    "      decoder_outputs.append(decoder_output)\n",
    "      attentions.append(attn_weights)\n",
    "\n",
    "      if target_tensor is not None:\n",
    "        # Teacher forcing: Feed the target token as the next input to the decoder.\n",
    "        decoder_input = target_tensor[:, i].unsqueeze(1)\n",
    "      else:\n",
    "        # Without teacher forcing: Use its own predictions as the next input.\n",
    "        _, topi = decoder_output.topk(1)\n",
    "        decoder_input = topi.squeeze(-1).detach()  # detach from history as input\n",
    "\n",
    "    # Concatenate all decoder outputs along the time step dimension.\n",
    "    decoder_outputs = torch.cat(decoder_outputs, dim=1)\n",
    "\n",
    "    # Apply log softmax to the outputs to get log-probabilities.\n",
    "    decoder_outputs = F.log_softmax(decoder_outputs, dim=-1)\n",
    "\n",
    "    # Concatenate all attention weights along the time step dimension.\n",
    "    attentions = torch.cat(attentions, dim=1)\n",
    "\n",
    "    # Return the outputs, final hidden state, and attention weights.\n",
    "    return decoder_outputs, decoder_hidden, attentions\n",
    "\n",
    "\n",
    "  def forward_step(self, input, hidden, encoder_outputs):\n",
    "    \"\"\"\n",
    "    Processes a single step in the decoding sequence with attention.\n",
    "    \n",
    "    Parameters:\n",
    "    - input: The current input to the decoder (shape: batch_size, 1).\n",
    "    - hidden: The current hidden state of the decoder (shape: 1, batch_size, hidden_size).\n",
    "    - encoder_outputs: The outputs from the encoder (shape: batch_size, seq_len, hidden_size).\n",
    "    \n",
    "    Returns:\n",
    "    - output: The predicted output (shape: batch_size, 1, output_size).\n",
    "    - hidden: The updated hidden state (shape: 1, batch_size, hidden_size).\n",
    "    - attn_weights: The attention weights for the current input (shape: batch_size, seq_len).\n",
    "    \"\"\"       \n",
    "    # Get the embedded representation of the current input with dropout for regularization. \n",
    "    embedded =  self.dropout(self.embedding(input))\n",
    "\n",
    "    # Permute hidden state to match the query shape for the attention mechanism.\n",
    "    query = hidden.permute(1, 0, 2)\n",
    "\n",
    "    # Compute the context vector and attention weights using the attention mechanism.\n",
    "    context, attn_weights = self.attention(query, encoder_outputs)\n",
    "\n",
    "    # Concatenate the embedded input and the context vector for the GRU.\n",
    "    input_gru = torch.cat((embedded, context), dim=2)\n",
    "\n",
    "    # Pass the combined input through the GRU layer to get the output and updated hidden state.\n",
    "    output, hidden = self.gru(input_gru, hidden)\n",
    "\n",
    "    # Map the GRU output to the output vocabulary space using the linear layer.\n",
    "    output = self.out(output)\n",
    "\n",
    "    return output, hidden, attn_weights"
   ]
  },
  {
   "cell_type": "markdown",
   "metadata": {},
   "source": [
    "### Treinando"
   ]
  },
  {
   "cell_type": "code",
   "execution_count": 21,
   "metadata": {},
   "outputs": [
    {
     "name": "stdout",
     "output_type": "stream",
     "text": [
      "Epoch:   10/ 100 - Loss: 0.6006\n",
      "Epoch:   20/ 100 - Loss: 0.5566\n",
      "Epoch:   30/ 100 - Loss: 0.5089\n",
      "Epoch:   40/ 100 - Loss: 0.3797\n",
      "Epoch:   50/ 100 - Loss: 0.1636\n",
      "Epoch:   60/ 100 - Loss: 0.0346\n",
      "Epoch:   70/ 100 - Loss: 0.0121\n",
      "Epoch:   80/ 100 - Loss: 0.0068\n",
      "Epoch:   90/ 100 - Loss: 0.0046\n",
      "Epoch:  100/ 100 - Loss: 0.0033\n"
     ]
    }
   ],
   "source": [
    "hidden_size = 128\n",
    "batch_size = 1024\n",
    "\n",
    "train_dataloader = get_dataloader(batch_size, pairs, input_dict, output_dict)\n",
    "\n",
    "encoder = EncoderRNN(\n",
    "  input_size = len(input_dict.keys()),\n",
    "  hidden_size = hidden_size\n",
    ").to(device)\n",
    "\n",
    "# decoder = DecoderRNN(\n",
    "decoder = AttnDecoderRNN(\n",
    "  hidden_size = hidden_size,\n",
    "  output_size = len(output_dict.keys())\n",
    ").to(device)\n",
    "\n",
    "\n",
    "loss_points = train(train_dataloader, encoder, decoder, 100, learning_rate=0.001)\n"
   ]
  },
  {
   "cell_type": "code",
   "execution_count": 22,
   "metadata": {},
   "outputs": [
    {
     "data": {
      "image/png": "[encoded data removed]",
      "text/plain": [
       "<Figure size 640x480 with 1 Axes>"
      ]
     },
     "metadata": {},
     "output_type": "display_data"
    }
   ],
   "source": [
    "plot_train_loss(loss_points)"
   ]
  },
  {
   "cell_type": "code",
   "execution_count": 23,
   "metadata": {},
   "outputs": [
    {
     "name": "stdout",
     "output_type": "stream",
     "text": [
      "Input: sabado 17 de marco de 2007\n",
      "Ground truth: 17/03/2007\n",
      "Predicted: SOSSOSSOSSOSSOSSOSSOSSOSSOSSOSSOSSOSSOSSOSSOSSOSSOSSOS\n",
      "\n",
      "Input: agosto 4 1991\n",
      "Ground truth: 04/08/1991\n",
      "Predicted: SOSSOSSOSSOSSOSSOSSOSSOSSOSSOSSOSSOSSOSSOSSOSSOSSOSSOS\n",
      "\n",
      "Input: 11 junho 2011\n",
      "Ground truth: 11/06/2011\n",
      "Predicted: SOSSOSSOSSOSSOSSOSSOSSOSSOSSOSSOSSOSSOSSOSSOSSOSSOSSOS\n",
      "\n",
      "Input: 6 mai. 1984\n",
      "Ground truth: 06/05/1984\n",
      "Predicted: SOSSOSSOSSOSSOSSOSSOSSOSSOSSOSSOSSOSSOSSOSSOSSOSSOSSOS\n",
      "\n",
      "Input: segunda-feira 23 de fevereiro de 2004\n",
      "Ground truth: 23/02/2004\n",
      "Predicted: 23/2004\n",
      "\n"
     ]
    }
   ],
   "source": [
    "evaluateRandomly(encoder, decoder)"
   ]
  },
  {
   "cell_type": "markdown",
   "metadata": {},
   "source": [
    "### **Visualizando as máscaras de Atenção**\n",
    "\n",
    "Uma propriedade útil do mecanismo de atenção é a alta interpretabilidade de suas saídas. Como ele é usado para atribuir pesos específicos às saídas do encoder da sequência de entrada, podemos imaginar onde a rede está mais focada em cada passo de tempo."
   ]
  },
  {
   "cell_type": "code",
   "execution_count": 24,
   "metadata": {},
   "outputs": [
    {
     "name": "stdout",
     "output_type": "stream",
     "text": [
      "input = 20 de novembro de 2015\n",
      "output = 20SOSSOSSOSSOSSOSSOSSOSSOSSOSSOSSOSSOSSOSSOSSOSSOSSOS\n"
     ]
    },
    {
     "data": {
      "image/png": "[encoded data removed]",
      "text/plain": [
       "<Figure size 640x480 with 2 Axes>"
      ]
     },
     "metadata": {},
     "output_type": "display_data"
    },
    {
     "name": "stdout",
     "output_type": "stream",
     "text": [
      "input = 22 de maio 1981\n",
      "output = 22/05\n"
     ]
    },
    {
     "data": {
      "image/png": "[encoded data removed]",
      "text/plain": [
       "<Figure size 640x480 with 2 Axes>"
      ]
     },
     "metadata": {},
     "output_type": "display_data"
    },
    {
     "name": "stdout",
     "output_type": "stream",
     "text": [
      "input = 15.11.2013\n",
      "output = 15SOSSOSSOSSOSSOSSOSSOSSOSSOSSOSSOSSOSSOSSOSSOSSOSSOS\n"
     ]
    },
    {
     "data": {
      "image/png": "[encoded data removed]",
      "text/plain": [
       "<Figure size 640x480 with 2 Axes>"
      ]
     },
     "metadata": {},
     "output_type": "display_data"
    },
    {
     "name": "stdout",
     "output_type": "stream",
     "text": [
      "input = 01 de jan. 1989\n",
      "output = SOSSOSSOSSOSSOSSOSSOSSOSSOSSOSSOSSOSSOSSOSSOSSOSSOSSOS\n"
     ]
    },
    {
     "data": {
      "image/png": "[encoded data removed]",
      "text/plain": [
       "<Figure size 640x480 with 2 Axes>"
      ]
     },
     "metadata": {},
     "output_type": "display_data"
    }
   ],
   "source": [
    "%matplotlib inline\n",
    "def showAttention(input_sentence, output_words, attentions):\n",
    "  fig = plt.figure()\n",
    "  ax = fig.add_subplot()\n",
    "  data = attentions.cpu().numpy().squeeze()\n",
    "  cax = ax.matshow(data, cmap='bone')\n",
    "  fig.colorbar(cax)\n",
    "\n",
    "  # Set up axes\n",
    "  input_tokens = [token for token in re.split('([^a-zA-Z0-9])', input_sentence) if token.strip()]\n",
    "  ax.set_xticks(ticks=range(len(input_tokens)), labels=input_tokens)\n",
    "  ax.set_yticks(ticks=range(len(output_words)), labels=output_words)\n",
    "\n",
    "  # Show label at every tick\n",
    "  ax.xaxis.set_major_locator(ticker.MultipleLocator(1))\n",
    "  ax.yaxis.set_major_locator(ticker.MultipleLocator(1))\n",
    "\n",
    "  for (i, j), z in np.ndenumerate(data):\n",
    "    ax.text(j, i, '{:0.1f}'.format(z), ha='center', va='center')\n",
    "\n",
    "  plt.show()\n",
    "\n",
    "\n",
    "def evaluateAndShowAttention(input_sentence):\n",
    "  output_words, attentions = evaluate(encoder, decoder, input_sentence)\n",
    "  print('input =', input_sentence)\n",
    "  print('output =', ''.join(output_words))\n",
    "  showAttention(input_sentence, output_words, attentions[0, :len(output_words), 1:])\n",
    "  plt.show()\n",
    "\n",
    "\n",
    "\n",
    "evaluateAndShowAttention('20 de novembro de 2015')\n",
    "\n",
    "evaluateAndShowAttention('22 de maio 1981')\n",
    "\n",
    "evaluateAndShowAttention('15.11.2013')\n",
    "\n",
    "evaluateAndShowAttention('01 de jan. 1989')"
   ]
  },
  {
   "cell_type": "markdown",
   "metadata": {},
   "source": [
    "----\n",
    "#  **4. Exercícios de Exploração Sugeridos**\n",
    "\n",
    "1. **Experimentar com outros datasets:**\n",
    "   - Tente utilizar um dataset diferente para observar como o modelo se comporta com dados novos. Algumas sugestões incluem:\n",
    "     - **Outro par de idiomas**: Experimente traduzir entre diferentes idiomas para testar a flexibilidade do modelo Seq2Seq.\n",
    "     - **Chat → Resposta**: Utilize um dataset de conversas e explore o mapeamento de mensagens para respostas.\n",
    "     - **Pergunta → Resposta**: Experimente um dataset de perguntas e respostas, onde o modelo aprende a fornecer respostas a perguntas específicas.\n",
    "\n",
    "2. **Explorar codificações alternativas:**\n",
    "   - Em vez de utilizar representações simples de palavras, tente usar **embeddings de palavras**. Isso pode melhorar a capacidade do modelo de capturar relacionamentos semânticos entre as palavras. Exemplos incluem: **Word2Vec** ou **GloVe**: Substitua as embeddings atuais por embeddings pré-treinadas para aproveitar o conhecimento adicional aprendido em grandes corpora.\n",
    "   - Experimente outras maneiras de **tokenizar o dataset**. Por exemplo, você pode usar subpalavras (como BPE - Byte Pair Encoding) ou tokens baseados em caracteres em vez de palavras inteiras.\n",
    "\n",
    "3. **Ajustes na arquitetura do modelo:**\n",
    "   - **Aumentar a complexidade do modelo**: Tente aumentar o número de camadas, o número de unidades ocultas (*hidden units*) e experimente treinar com sentenças mais longas. Compare o tempo de treinamento e a qualidade dos resultados obtidos. Isso pode revelar como o modelo escala com a complexidade.\n",
    "   - Em vez de utilizar células GRU, tente implementar o modelo com células **LSTM**. Compare os resultados e observe as diferenças no tempo de convergência e na qualidade da tradução.\n",
    "\n",
    "   - **Treinamento de um autoencoder**:\n",
    "     - Use um arquivo de tradução em que as frases de entrada e saída sejam idênticas (exemplo: \"Eu sou um teste \\t Eu sou um teste\").\n",
    "     - Treine o modelo como um **autoencoder**.\n",
    "     - Após o treinamento, **salve apenas a rede Encoder** e, em seguida, treine um novo Decoder para realizar a tradução a partir das representações do Encoder.\n",
    "\n",
    "4. **Explorar diferentes mecanismos de atenção:**\n",
    "   - Tente usar outro tipo de **mecanismo de atenção** (como **multi-head attention**) e compare os resultados em termos de precisão e capacidade de generalização.\n",
    "\n",
    "5. **Revisão e Contribuição:**\n",
    "   - Como o notebook não foi extensivamente testado, sinta-se à vontade para procurar e corrigir quaisquer erros que encontrar. Agradecemos qualquer contribuição para melhorar o código e a documentação. Seu feedback é valioso para aprimorar a experiência de aprendizado para todos os alunos.\n",
    "\n",
    "...\n"
   ]
  },
  {
   "cell_type": "markdown",
   "metadata": {},
   "source": [
    "## Substituição da representação simples de palavras por Word2Vec"
   ]
  },
  {
   "cell_type": "code",
   "execution_count": 25,
   "metadata": {},
   "outputs": [],
   "source": [
    "import gensim\n",
    "import torch\n",
    "import torch.nn as nn\n",
    "from gensim.models import KeyedVectors"
   ]
  },
  {
   "cell_type": "code",
   "execution_count": 26,
   "metadata": {},
   "outputs": [
    {
     "name": "stdout",
     "output_type": "stream",
     "text": [
      "Requirement already satisfied: gensim in /home/semcovici/pesquisa/seq2seq/.conda/lib/python3.12/site-packages (4.3.3)\n",
      "Requirement already satisfied: numpy<2.0,>=1.18.5 in /home/semcovici/pesquisa/seq2seq/.conda/lib/python3.12/site-packages (from gensim) (1.26.4)\n",
      "Requirement already satisfied: scipy<1.14.0,>=1.7.0 in /home/semcovici/pesquisa/seq2seq/.conda/lib/python3.12/site-packages (from gensim) (1.13.1)\n",
      "Requirement already satisfied: smart-open>=1.8.1 in /home/semcovici/pesquisa/seq2seq/.conda/lib/python3.12/site-packages (from gensim) (7.0.5)\n",
      "Requirement already satisfied: wrapt in /home/semcovici/pesquisa/seq2seq/.conda/lib/python3.12/site-packages (from smart-open>=1.8.1->gensim) (1.16.0)\n"
     ]
    }
   ],
   "source": [
    "!pip install gensim"
   ]
  },
  {
   "cell_type": "code",
   "execution_count": 27,
   "metadata": {},
   "outputs": [
    {
     "name": "stdout",
     "output_type": "stream",
     "text": [
      "Tamanho dos embeddings:  50\n"
     ]
    }
   ],
   "source": [
    "# Carregar os embeddings Word2Vec\n",
    "w2v_model = KeyedVectors.load_word2vec_format('../models/embedding/cbow_s50.txt')\n",
    "\n",
    "# Obter o tamanho dos embeddings\n",
    "embedding_dim = w2v_model.vector_size\n",
    "\n",
    "print('Tamanho dos embeddings: ', embedding_dim)"
   ]
  },
  {
   "cell_type": "code",
   "execution_count": 28,
   "metadata": {},
   "outputs": [
    {
     "name": "stdout",
     "output_type": "stream",
     "text": [
      "Shape da matriz de embeddings Input:  (164, 50)\n",
      "Shape da matriz de embeddings Output:  (89, 50)\n"
     ]
    }
   ],
   "source": [
    "# Função para carregar embeddings pretreinados\n",
    "def create_embedding_matrix(word_index, embedding_dim, w2v_model):\n",
    "    embedding_matrix = np.zeros((len(word_index), embedding_dim))\n",
    "    for word, i in word_index.items():\n",
    "        if word in w2v_model:\n",
    "            embedding_matrix[i] = w2v_model[word]\n",
    "    return embedding_matrix\n",
    "\n",
    "# Criar a matriz de embeddings para o encoder e decoder\n",
    "input_embedding_matrix = create_embedding_matrix(input_dict, embedding_dim, w2v_model)\n",
    "output_embedding_matrix = create_embedding_matrix(output_dict, embedding_dim, w2v_model)\n",
    "\n",
    "print('Shape da matriz de embeddings Input: ',input_embedding_matrix.shape)\n",
    "print('Shape da matriz de embeddings Output: ',output_embedding_matrix.shape)"
   ]
  },
  {
   "cell_type": "code",
   "execution_count": 29,
   "metadata": {},
   "outputs": [],
   "source": [
    "class EncoderRNN_word2vec(nn.Module):\n",
    "    def __init__(self, input_size, hidden_size, embedding_matrix, dropout_p=0.1):\n",
    "        super(EncoderRNN_word2vec, self).__init__()\n",
    "        self.hidden_size = hidden_size\n",
    "        self.embedding = nn.Embedding.from_pretrained(torch.tensor(embedding_matrix, dtype=torch.float32))\n",
    "        self.gru = nn.GRU(embedding_dim, hidden_size, batch_first=True)\n",
    "        self.dropout = nn.Dropout(dropout_p)\n",
    "\n",
    "    def forward(self, input):\n",
    "        embedded = self.dropout(self.embedding(input))\n",
    "        output, hidden = self.gru(embedded)\n",
    "        return output, hidden\n",
    "\n",
    "class AttnDecoderRNN_word2vec(nn.Module):\n",
    "  def __init__(self, hidden_size, output_size, embedding_matrix, dropout_p=0.1):\n",
    "        super(AttnDecoderRNN_word2vec, self).__init__()\n",
    "        self.hidden_size = hidden_size\n",
    "        self.embedding = nn.Embedding.from_pretrained(torch.tensor(embedding_matrix, dtype=torch.float32))\n",
    "        self.attention = BahdanauAttention(hidden_size)\n",
    "        self.gru = nn.GRU(embedding_dim + hidden_size, hidden_size, batch_first=True)\n",
    "        self.out = nn.Linear(hidden_size, output_size)\n",
    "        self.dropout = nn.Dropout(dropout_p)\n",
    "\n",
    "  def forward(self, encoder_outputs, encoder_hidden, target_tensor=None):\n",
    "    \"\"\"\n",
    "    Defines the forward pass for the attention decoder.\n",
    "    \n",
    "    Parameters:\n",
    "    - encoder_outputs: The output sequences from the encoder (shape: batch_size, seq_len, hidden_size).\n",
    "    - encoder_hidden: The last hidden state of the encoder (shape: 1, batch_size, hidden_size).\n",
    "    - target_tensor: The target sequence for teacher forcing (optional).\n",
    "    \n",
    "    Returns:\n",
    "    - decoder_outputs: The output probabilities (log-softmax) for each time step (shape: batch_size, seq_len, output_size).\n",
    "    - decoder_hidden: The final hidden state of the decoder (shape: 1, batch_size, hidden_size).\n",
    "    - attentions: The attention weights for each time step (shape: batch_size, seq_len).\n",
    "    \"\"\"        \n",
    "    batch_size = encoder_outputs.size(0)\n",
    "    decoder_input = torch.empty(batch_size, 1, dtype=torch.long, device=device).fill_(SOS_token)\n",
    "    decoder_hidden = encoder_hidden\n",
    "    decoder_outputs = []\n",
    "    attentions = []\n",
    "\n",
    "    # Loop through each time step to generate the output sequence.\n",
    "    for i in range(MAX_LENGTH):\n",
    "      # Call the forward_step function to get output, hidden state, and attention weights for the current time step.\n",
    "      decoder_output, decoder_hidden, attn_weights = self.forward_step(decoder_input, decoder_hidden, encoder_outputs)\n",
    "      decoder_outputs.append(decoder_output)\n",
    "      attentions.append(attn_weights)\n",
    "\n",
    "      if target_tensor is not None:\n",
    "        # Teacher forcing: Feed the target token as the next input to the decoder.\n",
    "        decoder_input = target_tensor[:, i].unsqueeze(1)\n",
    "      else:\n",
    "        # Without teacher forcing: Use its own predictions as the next input.\n",
    "        _, topi = decoder_output.topk(1)\n",
    "        decoder_input = topi.squeeze(-1).detach()  # detach from history as input\n",
    "\n",
    "    # Concatenate all decoder outputs along the time step dimension.\n",
    "    decoder_outputs = torch.cat(decoder_outputs, dim=1)\n",
    "\n",
    "    # Apply log softmax to the outputs to get log-probabilities.\n",
    "    decoder_outputs = F.log_softmax(decoder_outputs, dim=-1)\n",
    "\n",
    "    # Concatenate all attention weights along the time step dimension.\n",
    "    attentions = torch.cat(attentions, dim=1)\n",
    "\n",
    "    # Return the outputs, final hidden state, and attention weights.\n",
    "    return decoder_outputs, decoder_hidden, attentions\n",
    "\n",
    "\n",
    "  def forward_step(self, input, hidden, encoder_outputs):\n",
    "    \"\"\"\n",
    "    Processes a single step in the decoding sequence with attention.\n",
    "    \n",
    "    Parameters:\n",
    "    - input: The current input to the decoder (shape: batch_size, 1).\n",
    "    - hidden: The current hidden state of the decoder (shape: 1, batch_size, hidden_size).\n",
    "    - encoder_outputs: The outputs from the encoder (shape: batch_size, seq_len, hidden_size).\n",
    "    \n",
    "    Returns:\n",
    "    - output: The predicted output (shape: batch_size, 1, output_size).\n",
    "    - hidden: The updated hidden state (shape: 1, batch_size, hidden_size).\n",
    "    - attn_weights: The attention weights for the current input (shape: batch_size, seq_len).\n",
    "    \"\"\"       \n",
    "    # Get the embedded representation of the current input with dropout for regularization. \n",
    "    embedded =  self.dropout(self.embedding(input))\n",
    "\n",
    "    # Permute hidden state to match the query shape for the attention mechanism.\n",
    "    query = hidden.permute(1, 0, 2)\n",
    "\n",
    "    # Compute the context vector and attention weights using the attention mechanism.\n",
    "    context, attn_weights = self.attention(query, encoder_outputs)\n",
    "\n",
    "    # Concatenate the embedded input and the context vector for the GRU.\n",
    "    input_gru = torch.cat((embedded, context), dim=2)\n",
    "\n",
    "    # Pass the combined input through the GRU layer to get the output and updated hidden state.\n",
    "    output, hidden = self.gru(input_gru, hidden)\n",
    "\n",
    "    # Map the GRU output to the output vocabulary space using the linear layer.\n",
    "    output = self.out(output)\n",
    "\n",
    "    return output, hidden, attn_weights"
   ]
  },
  {
   "cell_type": "code",
   "execution_count": 30,
   "metadata": {},
   "outputs": [],
   "source": [
    "encoder_word2vec = EncoderRNN_word2vec(input_size=len(input_dict), hidden_size=hidden_size, embedding_matrix=input_embedding_matrix).to(device)\n",
    "decoder_word2vec = AttnDecoderRNN_word2vec(hidden_size=hidden_size, output_size=len(output_dict), embedding_matrix=output_embedding_matrix).to(device)"
   ]
  },
  {
   "cell_type": "code",
   "execution_count": 31,
   "metadata": {},
   "outputs": [
    {
     "name": "stdout",
     "output_type": "stream",
     "text": [
      "Epoch:   10/ 100 - Loss: 0.7888\n",
      "Epoch:   20/ 100 - Loss: 0.5838\n",
      "Epoch:   30/ 100 - Loss: 0.5612\n",
      "Epoch:   40/ 100 - Loss: 0.5558\n",
      "Epoch:   50/ 100 - Loss: 0.5529\n",
      "Epoch:   60/ 100 - Loss: 0.5470\n",
      "Epoch:   70/ 100 - Loss: 0.5340\n",
      "Epoch:   80/ 100 - Loss: 0.5197\n",
      "Epoch:   90/ 100 - Loss: 0.5099\n",
      "Epoch:  100/ 100 - Loss: 0.5003\n"
     ]
    }
   ],
   "source": [
    "loss_points_word2vec = train(train_dataloader, encoder_word2vec, decoder_word2vec, 100, learning_rate=0.001)"
   ]
  },
  {
   "cell_type": "code",
   "execution_count": 32,
   "metadata": {},
   "outputs": [
    {
     "data": {
      "image/png": "[encoded data removed]",
      "text/plain": [
       "<Figure size 640x480 with 1 Axes>"
      ]
     },
     "metadata": {},
     "output_type": "display_data"
    }
   ],
   "source": [
    "plot_train_loss(loss_points_word2vec)"
   ]
  },
  {
   "cell_type": "markdown",
   "metadata": {},
   "source": [
    "## Troca de GRU por LSTM"
   ]
  },
  {
   "cell_type": "code",
   "execution_count": 37,
   "metadata": {},
   "outputs": [],
   "source": [
    "# Modifique o EncoderRNN para LSTM\n",
    "class EncoderRNN_LSTM(nn.Module):\n",
    "    def __init__(self, input_size, hidden_size, dropout_p=0.1):\n",
    "        super(EncoderRNN_LSTM, self).__init__()\n",
    "        self.hidden_size = hidden_size\n",
    "        self.embedding = nn.Embedding(input_size, hidden_size)\n",
    "        self.lstm = nn.LSTM(hidden_size, hidden_size, batch_first=True)\n",
    "        self.dropout = nn.Dropout(dropout_p)\n",
    "\n",
    "    def forward(self, input):\n",
    "        embedded = self.dropout(self.embedding(input))\n",
    "        output, (hidden, cell) = self.lstm(embedded)\n",
    "        return output, (hidden, cell)\n",
    "\n",
    "# Modifique o AttnDecoderRNN para LSTM\n",
    "class AttnDecoderRNN_LSTM(nn.Module):\n",
    "    def __init__(self, hidden_size, output_size, dropout_p=0.1):\n",
    "        super(AttnDecoderRNN_LSTM, self).__init__()\n",
    "        self.embedding = nn.Embedding(output_size, hidden_size)\n",
    "        self.attention = BahdanauAttention(hidden_size)\n",
    "        self.lstm = nn.LSTM(2 * hidden_size, hidden_size, batch_first=True)\n",
    "        self.out = nn.Linear(hidden_size, output_size)\n",
    "        self.dropout = nn.Dropout(dropout_p)\n",
    "\n",
    "    def forward(self, encoder_outputs, encoder_hidden, target_tensor=None):\n",
    "        batch_size = encoder_outputs.size(0)\n",
    "        decoder_input = torch.empty(batch_size, 1, dtype=torch.long, device=device).fill_(SOS_token)\n",
    "        decoder_hidden, decoder_cell = encoder_hidden\n",
    "        decoder_outputs = []\n",
    "        attentions = []\n",
    "\n",
    "        for i in range(MAX_LENGTH):\n",
    "            decoder_output, (decoder_hidden, decoder_cell), attn_weights = self.forward_step(\n",
    "                decoder_input, (decoder_hidden, decoder_cell), encoder_outputs\n",
    "            )\n",
    "            decoder_outputs.append(decoder_output)\n",
    "            attentions.append(attn_weights)\n",
    "\n",
    "            if target_tensor is not None:\n",
    "                decoder_input = target_tensor[:, i].unsqueeze(1)\n",
    "            else:\n",
    "                _, topi = decoder_output.topk(1)\n",
    "                decoder_input = topi.squeeze(-1).detach()\n",
    "\n",
    "        decoder_outputs = torch.cat(decoder_outputs, dim=1)\n",
    "        decoder_outputs = F.log_softmax(decoder_outputs, dim=-1)\n",
    "        attentions = torch.cat(attentions, dim=1)\n",
    "        return decoder_outputs, (decoder_hidden, decoder_cell), attentions\n",
    "\n",
    "    def forward_step(self, input, hidden, encoder_outputs):\n",
    "        decoder_hidden, decoder_cell = hidden\n",
    "        embedded = self.dropout(self.embedding(input))\n",
    "        query = decoder_hidden.permute(1, 0, 2)\n",
    "        context, attn_weights = self.attention(query, encoder_outputs)\n",
    "        input_lstm = torch.cat((embedded, context), dim=2)\n",
    "        output, (decoder_hidden, decoder_cell) = self.lstm(input_lstm, (decoder_hidden, decoder_cell))\n",
    "        output = self.out(output)\n",
    "        return output, (decoder_hidden, decoder_cell), attn_weights\n"
   ]
  },
  {
   "cell_type": "code",
   "execution_count": 38,
   "metadata": {},
   "outputs": [
    {
     "name": "stdout",
     "output_type": "stream",
     "text": [
      "Epoch:   10/ 100 - Loss: 0.6093\n",
      "Epoch:   20/ 100 - Loss: 0.5568\n",
      "Epoch:   30/ 100 - Loss: 0.4948\n",
      "Epoch:   40/ 100 - Loss: 0.3986\n",
      "Epoch:   50/ 100 - Loss: 0.2369\n",
      "Epoch:   60/ 100 - Loss: 0.1077\n",
      "Epoch:   70/ 100 - Loss: 0.0450\n",
      "Epoch:   80/ 100 - Loss: 0.0215\n",
      "Epoch:   90/ 100 - Loss: 0.0127\n",
      "Epoch:  100/ 100 - Loss: 0.0087\n"
     ]
    }
   ],
   "source": [
    "encoder_LSTM = EncoderRNN_LSTM(\n",
    "  input_size = len(input_dict.keys()),\n",
    "  hidden_size = hidden_size\n",
    ").to(device)\n",
    "\n",
    "# decoder = DecoderRNN(\n",
    "decoder_LSTM = AttnDecoderRNN_LSTM(\n",
    "  hidden_size = hidden_size,\n",
    "  output_size = len(output_dict.keys())\n",
    ").to(device)\n",
    "\n",
    "\n",
    "loss_points_LSTM = train(train_dataloader, encoder_LSTM, decoder_LSTM, 100, learning_rate=0.001)"
   ]
  }
 ],
 "metadata": {
  "kernelspec": {
   "display_name": "Python 3",
   "language": "python",
   "name": "python3"
  },
  "language_info": {
   "codemirror_mode": {
    "name": "ipython",
    "version": 3
   },
   "file_extension": ".py",
   "mimetype": "text/x-python",
   "name": "python",
   "nbconvert_exporter": "python",
   "pygments_lexer": "ipython3",
   "version": "3.12.7"
  }
 },
 "nbformat": 4,
 "nbformat_minor": 2
}
